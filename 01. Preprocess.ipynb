{
 "cells": [
  {
   "cell_type": "markdown",
   "metadata": {},
   "source": [
    "# Author: Blai Ras\n",
    "# Time Series Pre-processing for model building\n",
    "\n",
    "### From the master thesis\n",
    "\n",
    "### <center>  _'Accuracy comparison between Sparse Autoregressive and XGBoost models for high-dimensional product sales forecasting'_ </center>\n",
    "\n",
    "In this notebook we present the mandatory steps to adapt our dataset to the needed format, as well as other time series pre-processings. All the needed documentation and detailed description can be found in the thesis paper.\n",
    "\n",
    "## Needed libraries"
   ]
  },
  {
   "cell_type": "code",
   "execution_count": 1,
   "metadata": {
    "ExecuteTime": {
     "end_time": "2021-08-31T09:24:08.653464Z",
     "start_time": "2021-08-31T09:24:06.394353Z"
    }
   },
   "outputs": [],
   "source": [
    "import pandas as pd #Tabular data managing\n",
    "import numpy as np #Vector and array managing\n",
    "import matplotlib.pyplot as plt #For plotting purposes\n",
    "from statsmodels.tsa.stattools import adfuller #Needed for the ADF test\n",
    "import itertools #For the dates expanding operation \n",
    "%matplotlib inline"
   ]
  },
  {
   "cell_type": "markdown",
   "metadata": {},
   "source": [
    "## Data Reading\n",
    "\n",
    "``Sales`` contain all the sales records of each SKU for each date. ``MD`` means 'Master Data', and works like a dictionary in order to assign a segment to each SKU. ``Promo`` contains all the records of promotions of each SKU for each date."
   ]
  },
  {
   "cell_type": "code",
   "execution_count": 2,
   "metadata": {
    "ExecuteTime": {
     "end_time": "2021-08-08T10:03:02.802928Z",
     "start_time": "2021-08-08T10:03:02.324682Z"
    }
   },
   "outputs": [],
   "source": [
    "sales = pd.read_csv(\"Data/Original Data/Sales.csv\",sep=\";\")\n",
    "sales = sales.drop([\"Country\"],axis=1)\n",
    "md = pd.read_csv(\"Data/Original Data/MD.csv\",index_col=0)[[\"SKU\",\"Segment\"]]\n",
    "promo = pd.read_csv(\"Data/Original Data/Promo.csv\",index_col=0)[[\"SKU\",\"Discount\",\"Week\",\"Duration\",\"Marketing_Channel\",\"Position\"]]"
   ]
  },
  {
   "cell_type": "markdown",
   "metadata": {},
   "source": [
    "In order to get the Segment column to our sales records, we merge the ``MD`` and ``Sales`` datasets."
   ]
  },
  {
   "cell_type": "code",
   "execution_count": 3,
   "metadata": {
    "ExecuteTime": {
     "end_time": "2021-08-08T10:03:07.687793Z",
     "start_time": "2021-08-08T10:03:07.560711Z"
    }
   },
   "outputs": [],
   "source": [
    "sales = pd.merge(sales,md,on=\"SKU\")\n",
    "#sales.to_csv(\"Data/Original_sales.csv\",index=None)"
   ]
  },
  {
   "cell_type": "markdown",
   "metadata": {},
   "source": [
    "## Date formatting\n",
    "\n",
    "The ``Date`` column is in week format, i.e., ``2015-48``, where 48 is the week number of the year 2015. We need to change it to a normal date format, adding the number of the first day of the week (monday). The function ``toDate`` manages this process."
   ]
  },
  {
   "cell_type": "code",
   "execution_count": 4,
   "metadata": {
    "ExecuteTime": {
     "end_time": "2021-08-08T10:03:08.092155Z",
     "start_time": "2021-08-08T10:03:08.073157Z"
    }
   },
   "outputs": [],
   "source": [
    "import datetime\n",
    "def toDate(string):\n",
    "    year,week = string.split(\"-\")\n",
    "    return datetime.date.fromisocalendar(int(year), int(week), 1)"
   ]
  },
  {
   "cell_type": "markdown",
   "metadata": {},
   "source": [
    "Parsing to type ``datetime``"
   ]
  },
  {
   "cell_type": "code",
   "execution_count": 5,
   "metadata": {
    "ExecuteTime": {
     "end_time": "2021-08-08T10:03:09.109755Z",
     "start_time": "2021-08-08T10:03:08.240540Z"
    }
   },
   "outputs": [],
   "source": [
    "sales[\"Date\"] = sales[\"Week\"].apply(toDate)\n",
    "sales[\"Date\"] = sales.Date.astype('datetime64[ns]')\n",
    "promo[\"Date\"] = promo[\"Week\"].apply(toDate)\n",
    "promo[\"Date\"] = promo.Date.astype('datetime64[ns]')"
   ]
  },
  {
   "cell_type": "code",
   "execution_count": 6,
   "metadata": {
    "ExecuteTime": {
     "end_time": "2021-08-08T10:03:09.125725Z",
     "start_time": "2021-08-08T10:03:09.110731Z"
    }
   },
   "outputs": [
    {
     "data": {
      "text/html": [
       "<div>\n",
       "<style scoped>\n",
       "    .dataframe tbody tr th:only-of-type {\n",
       "        vertical-align: middle;\n",
       "    }\n",
       "\n",
       "    .dataframe tbody tr th {\n",
       "        vertical-align: top;\n",
       "    }\n",
       "\n",
       "    .dataframe thead th {\n",
       "        text-align: right;\n",
       "    }\n",
       "</style>\n",
       "<table border=\"1\" class=\"dataframe\">\n",
       "  <thead>\n",
       "    <tr style=\"text-align: right;\">\n",
       "      <th></th>\n",
       "      <th>SKU</th>\n",
       "      <th>Week</th>\n",
       "      <th>Sales</th>\n",
       "      <th>Segment</th>\n",
       "      <th>Date</th>\n",
       "    </tr>\n",
       "  </thead>\n",
       "  <tbody>\n",
       "    <tr>\n",
       "      <th>0</th>\n",
       "      <td>444646</td>\n",
       "      <td>2015-48</td>\n",
       "      <td>29</td>\n",
       "      <td>10100</td>\n",
       "      <td>2015-11-23</td>\n",
       "    </tr>\n",
       "    <tr>\n",
       "      <th>1</th>\n",
       "      <td>444646</td>\n",
       "      <td>2016-06</td>\n",
       "      <td>74</td>\n",
       "      <td>10100</td>\n",
       "      <td>2016-02-08</td>\n",
       "    </tr>\n",
       "    <tr>\n",
       "      <th>2</th>\n",
       "      <td>444646</td>\n",
       "      <td>2016-27</td>\n",
       "      <td>83</td>\n",
       "      <td>10100</td>\n",
       "      <td>2016-07-04</td>\n",
       "    </tr>\n",
       "    <tr>\n",
       "      <th>3</th>\n",
       "      <td>444646</td>\n",
       "      <td>2017-11</td>\n",
       "      <td>42</td>\n",
       "      <td>10100</td>\n",
       "      <td>2017-03-13</td>\n",
       "    </tr>\n",
       "    <tr>\n",
       "      <th>4</th>\n",
       "      <td>444646</td>\n",
       "      <td>2017-45</td>\n",
       "      <td>57</td>\n",
       "      <td>10100</td>\n",
       "      <td>2017-11-06</td>\n",
       "    </tr>\n",
       "  </tbody>\n",
       "</table>\n",
       "</div>"
      ],
      "text/plain": [
       "      SKU     Week  Sales  Segment       Date\n",
       "0  444646  2015-48     29    10100 2015-11-23\n",
       "1  444646  2016-06     74    10100 2016-02-08\n",
       "2  444646  2016-27     83    10100 2016-07-04\n",
       "3  444646  2017-11     42    10100 2017-03-13\n",
       "4  444646  2017-45     57    10100 2017-11-06"
      ]
     },
     "execution_count": 6,
     "metadata": {},
     "output_type": "execute_result"
    }
   ],
   "source": [
    "sales.head()"
   ]
  },
  {
   "cell_type": "markdown",
   "metadata": {},
   "source": [
    "## Date Expansion\n",
    "\n",
    "Since we know there are missing sales and therefore missing weeks in some SKU sales records, this function gathers the oldest and newest date and creates the full expand of datetimes, so we can later on merge with our sales records and define the missing values."
   ]
  },
  {
   "cell_type": "code",
   "execution_count": 35,
   "metadata": {
    "ExecuteTime": {
     "end_time": "2021-08-08T09:50:50.479708Z",
     "start_time": "2021-08-08T09:50:50.470705Z"
    }
   },
   "outputs": [],
   "source": [
    "\n",
    "def span_dates(data):\n",
    "    #Getting the oldest and newest dates\n",
    "    minDate = data[\"Date\"].min()\n",
    "    maxDate = data[\"Date\"].max()\n",
    "    \n",
    "    #Span creation\n",
    "    span = pd.date_range(minDate, maxDate, freq=\"W-MON\")\n",
    "    \n",
    "    #Dictionary of dates for each SKU\n",
    "    span_values = {\"SKU\": list(data[\"SKU\"].unique()), \"Date\": span}\n",
    "    \n",
    "    #Creating each combination\n",
    "    rows = itertools.product(*span_values.values())\n",
    "    \n",
    "    #And finally creating the overall dataset with date and SKU.\n",
    "    dataExtended = pd.DataFrame.from_records(rows, columns=span_values.keys())\n",
    "    \n",
    "    return dataExtended\n",
    "    "
   ]
  },
  {
   "cell_type": "markdown",
   "metadata": {},
   "source": [
    "## Flag missing sales\n",
    "\n",
    "This function creates the column \"Missing\" which indicates when we have missing sales if and always if there has been already sales of that same product. Those are the sales we need to interpolate from the data!"
   ]
  },
  {
   "cell_type": "code",
   "execution_count": 36,
   "metadata": {
    "ExecuteTime": {
     "end_time": "2021-08-08T09:50:50.778500Z",
     "start_time": "2021-08-08T09:50:50.768500Z"
    }
   },
   "outputs": [],
   "source": [
    "def flag_missing(data, span):\n",
    "    \n",
    "    data[\"Date\"] = data.Date.astype('datetime64[ns]')\n",
    "\n",
    "    df = pd.merge(span,data,how=\"left\",left_on=[\"SKU\",\"Date\"],right_on=[\"SKU\",\"Date\"])\n",
    "    df[\"Week\"] = df[\"Date\"].dt.week\n",
    "    \n",
    "    df['Cumsum'] = df.groupby('SKU')['Sales'].expanding().sum().reset_index(0, drop=True)\n",
    "    \n",
    "    df[\"Dissapeared\"] = 0\n",
    "    df.loc[(df[\"Cumsum\"]!=0.) & (df[\"Cumsum\"].notna()) & (df[\"Sales\"].isna()),\"Dissapeared\"] = 1\n",
    "    \n",
    "    return df\n",
    "    "
   ]
  },
  {
   "cell_type": "markdown",
   "metadata": {},
   "source": [
    "This function performs the split between these missing sales and the ones that are not."
   ]
  },
  {
   "cell_type": "code",
   "execution_count": 37,
   "metadata": {
    "ExecuteTime": {
     "end_time": "2021-08-08T09:50:52.057598Z",
     "start_time": "2021-08-08T09:50:52.044596Z"
    }
   },
   "outputs": [],
   "source": [
    "def split_existant(series):\n",
    "    nonExistant = (series[\"Dissapeared\"] == 0) & (series[\"Sales\"].isna())\n",
    "    return series[nonExistant], series[~nonExistant]"
   ]
  },
  {
   "cell_type": "markdown",
   "metadata": {},
   "source": [
    "## Variable Plotting\n",
    "\n",
    "Just for testing purposes, this function is able to plot a time-series"
   ]
  },
  {
   "cell_type": "code",
   "execution_count": 41,
   "metadata": {
    "ExecuteTime": {
     "end_time": "2021-08-08T10:09:59.850579Z",
     "start_time": "2021-08-08T10:09:59.798581Z"
    }
   },
   "outputs": [],
   "source": [
    "def plot_series(series,title):\n",
    "    \n",
    "    #Sort by date so our 'line' does not go back in time\n",
    "    series =  series.sort_values(\"Date\")\n",
    "    \n",
    "    #The column date now is converted as dataframe index\n",
    "    if series.index.name != 'Date':\n",
    "        series = series.set_index(\"Date\")\n",
    "    \n",
    "    #Resetting index\n",
    "    _ = series.copy()\n",
    "    _.reset_index(level=0, inplace=True)\n",
    "\n",
    "    #Gathering the oldest and newest date\n",
    "    min_date = _[\"Date\"].min()\n",
    "    max_date = _[\"Date\"].max()\n",
    "    \n",
    "    #Plot configurations\n",
    "    plt.figure(figsize=(12,6))\n",
    "    plt.plot(series, color='red')\n",
    "    plt.title(title, fontsize=16)\n",
    "\n",
    "    #Adding a vertical line that helps identifiying when does a year start and end,\n",
    "    for year in range(min_date.year, max_date.year+1):\n",
    "        plt.axvline(datetime.datetime(year,1,1), linestyle='-', color='k', alpha=1)\n",
    "        #And also a vertical stripped line that separates each month\n",
    "        for month in range(1,13):\n",
    "            plt.axvline(datetime.datetime(year,month,1), linestyle='--', color='k', alpha=0.1)\n",
    "            \n",
    "    #Limiting the x axis according to our date span\n",
    "    plt.xlim(datetime.datetime(min_date.year,min_date.month,1),max_date)\n",
    "    plt.show()\n",
    "    "
   ]
  },
  {
   "cell_type": "code",
   "execution_count": 38,
   "metadata": {
    "ExecuteTime": {
     "end_time": "2021-08-08T10:09:41.066956Z",
     "start_time": "2021-08-08T10:09:40.799803Z"
    }
   },
   "outputs": [
    {
     "data": {
      "image/png": "[encoded data removed]",
      "text/plain": [
       "<Figure size 864x432 with 1 Axes>"
      ]
     },
     "metadata": {
      "needs_background": "light"
     },
     "output_type": "display_data"
    }
   ],
   "source": [
    "#Example of function call\n",
    "example_sku = 444646\n",
    "plot_series(sales[sales.SKU==example_sku][[\"Sales\",\"Date\"]],'Sales for SKU '+str(example_sku))"
   ]
  },
  {
   "cell_type": "markdown",
   "metadata": {
    "ExecuteTime": {
     "end_time": "2021-07-15T16:39:24.103966Z",
     "start_time": "2021-07-15T16:39:24.088967Z"
    }
   },
   "source": [
    "## Missing Values Management\n",
    "\n",
    "This function iterates product after product counting NaN values. If this number of missing values is superior to a certain percentage, this product is rejected. \n",
    "\n",
    "If not, we still need to interpolate the missing sales, if any."
   ]
  },
  {
   "cell_type": "code",
   "execution_count": 12,
   "metadata": {
    "ExecuteTime": {
     "end_time": "2021-08-06T13:42:29.779580Z",
     "start_time": "2021-08-06T13:42:29.764580Z"
    }
   },
   "outputs": [],
   "source": [
    "def nan_management(data,percentage,interpolate,verbose=False):\n",
    "    \n",
    "    #List of unique products\n",
    "    variables = data.SKU.unique()\n",
    "    #Dataframe where we will be adding the adapted time series\n",
    "    transformed = pd.DataFrame()\n",
    "    #NaN counter\n",
    "    total_nan = 0\n",
    "\n",
    "    for var in variables:\n",
    "        #Get the product sales from the overall dataset\n",
    "        product = data[data.SKU == var][[\"SKU\",\"Date\",\"Sales\",\"Week\",\"Dissapeared\"]]\n",
    "        \n",
    "        #Get all the NaN that might have\n",
    "        nan = product.Sales.isna().sum()\n",
    "        total_nan += nan\n",
    "        \n",
    "        #Check if the product passes our threshold of maximum amount of permitted NaN's\n",
    "        if nan/product.shape[0] < percentage:\n",
    "            \n",
    "            # Split by NaN type\n",
    "            nonExistant, serie = split_existant(product)\n",
    "\n",
    "            \n",
    "            serie = serie.set_index(\"Date\")\n",
    "            #For testing purposes, we can plot the SKU sales\n",
    "            if verbose:\n",
    "                print(\"\\nSKU:\",var)\n",
    "                plot_series(serie[[\"Sales\"]],'Sales for SKU '+str(var))\n",
    "            \n",
    "            #Interpolation procedure:\n",
    "            if interpolate:\n",
    "                serie[\"Sales\"] = serie[\"Sales\"].interpolate(method='linear')\n",
    "                #For testing purposes, we can plot the SKU sales once interpolted to see the difference\n",
    "                if verbose:\n",
    "                    plot_series(serie[[\"Sales\"]],'Interpolated Sales for SKU '+str(var))\n",
    "            \n",
    "            #Undo the date as index\n",
    "            serie.reset_index(inplace=True)\n",
    "            \n",
    "            #Concatenate again the sales records, splitted due the NaN type differentation\n",
    "            transformed = pd.concat([transformed,pd.concat([nonExistant,serie],ignore_index=True)],ignore_index=True)\n",
    "\n",
    "    return transformed,total_nan"
   ]
  },
  {
   "cell_type": "markdown",
   "metadata": {},
   "source": [
    "## Train & Test split\n",
    "\n",
    "This function tabulates the data in a way that we have firstly the Date as the index, and, secondly, the sales of the product, its discounts and its promotion duration as as columns.\n",
    "\n",
    "Then, it performs the train and test splitting such that the last 4 weeks are saved for testing purposes and the other records as train set.\n",
    "\n",
    "This function is parametrized such that we can perform the splitting with or without promotions."
   ]
  },
  {
   "cell_type": "code",
   "execution_count": 13,
   "metadata": {
    "ExecuteTime": {
     "end_time": "2021-08-06T13:42:29.795581Z",
     "start_time": "2021-08-06T13:42:29.781581Z"
    }
   },
   "outputs": [],
   "source": [
    "def train_test_split(series,promo,segment,operation):\n",
    "    \n",
    "    #Check firstly if there's the promotion dataset\n",
    "    if len(promo.index) != 0:\n",
    "            \n",
    "        #Date type setting\n",
    "        series[\"Date\"] = series.Date.astype('datetime64[ns]')\n",
    "        \n",
    "        #Merging sales with promotions by SKU\n",
    "        merged = pd.merge(series,promo,on=[\"SKU\",\"Date\"],how=\"left\")\n",
    "\n",
    "        #Tabulation of each dataset\n",
    "        #Sales\n",
    "        sales = pd.crosstab(index=merged['Date'], columns=merged['SKU'],values=merged[\"Sales\"],aggfunc=\"sum\")\n",
    "        sales.rename(columns=lambda x: 'Sales_' + str(x), inplace=True)\n",
    "        \n",
    "        #Discount\n",
    "        discount = pd.crosstab(index=merged['Date'], columns=merged['SKU'],values=merged[\"Discount\"],aggfunc=\"sum\")\n",
    "        discount.rename(columns=lambda x: 'Discount_' + str(x), inplace=True)\n",
    "        \n",
    "        #Duration\n",
    "        duration = pd.crosstab(index=merged['Date'], columns=merged['SKU'],values=merged[\"Duration\"],aggfunc=\"sum\")\n",
    "        duration.rename(columns=lambda x: 'Duration_' + str(x), inplace=True)\n",
    "        \n",
    "        #Concatenating our two promotion variables: discounts and duration\n",
    "        promo = pd.concat([discount,duration],axis=1)\n",
    "\n",
    "        #Check if after cleaning has no promotion or discount (all zeros)\n",
    "        if not (len(np.unique(promo))==1 and np.unique(promo)[0] == 0):\n",
    "            \n",
    "            #Concatenation now sales with promotion\n",
    "            concatenation = pd.concat([sales,discount,duration],axis=1)\n",
    "            \n",
    "            #Train & Test splitting\n",
    "            #Train\n",
    "            concatenation.head(-4).to_csv(\"Data/\"+operation+\" Train & Test Sets/\"+str(segment)+\"Train.csv\")\n",
    "            #Test\n",
    "            concatenation.tail(4).to_csv(\"Data/\"+operation+\" Train & Test Sets/\"+str(segment)+\"Test.csv\")\n",
    "            \n",
    "    #If there's no promotion, we just tabulate our sales and perform the splitting\n",
    "    else:\n",
    "        sales = pd.crosstab(index=series['Date'], columns=series['SKU'],values=series[\"Sales\"],aggfunc=\"sum\")\n",
    "        sales.rename(columns=lambda x: 'Sales_' + str(x), inplace=True)\n",
    "        \n",
    "        #Train\n",
    "        sales.head(-4).to_csv(\"Data/\"+operation+\" Train & Test Sets/No_Promo/\"+str(segment)+\"Train.csv\")\n",
    "        #Test\n",
    "        sales.tail(4).to_csv(\"Data/\"+operation+\" Train & Test Sets/No_Promo/Test\"+str(segment)+\"Test.csv\")"
   ]
  },
  {
   "cell_type": "markdown",
   "metadata": {},
   "source": [
    "## First preprocess: NaN Values\n",
    "\n",
    "This function applies the explained NaN removal procedure, and saves each segment train & test splits. It also saves the whole Master Data after the removal."
   ]
  },
  {
   "cell_type": "code",
   "execution_count": 14,
   "metadata": {
    "ExecuteTime": {
     "end_time": "2021-08-06T13:42:29.874582Z",
     "start_time": "2021-08-06T13:42:29.863581Z"
    }
   },
   "outputs": [],
   "source": [
    "def apply_nan(sales,promo,percentage=0.3,verbose=False):\n",
    "    \n",
    "    #Dataframe where we will be adding the pre-processed sales\n",
    "    new_sales = pd.DataFrame()\n",
    "    \n",
    "    #NaN counter\n",
    "    total_nan = 0\n",
    "    \n",
    "    #SKU removal counter\n",
    "    total_removed = 0\n",
    "    \n",
    "    #For each segment\n",
    "    for i in sales.Segment.unique():\n",
    "        segment = sales[sales[\"Segment\"] == i][[\"SKU\",\"Sales\",\"Date\"]]\n",
    "        \n",
    "        #Expand its dates\n",
    "        span = span_dates(segment)\n",
    "        \n",
    "        #Split by NaN type\n",
    "        data = flag_missing(segment,span)\n",
    "        \n",
    "        #Negative sales (human errors) are set to zero\n",
    "        data[\"Sales\"] = np.where(data[\"Sales\"] < 0, 0, data[\"Sales\"])\n",
    "        before = data.SKU.nunique()\n",
    "        \n",
    "        if verbose:\n",
    "            print(\"SEGMENT:\",i)\n",
    "            print(\"\\tNumber of SKU's before:\",data.SKU.nunique())\n",
    "        \n",
    "        #NaN management\n",
    "        adapted,nan = nan_management(data.copy(),\n",
    "                                 percentage=percentage,\n",
    "                                 interpolate=True,\n",
    "                                 verbose=False)\n",
    "        total_nan += nan\n",
    "        \n",
    "        #Recovering the segment ID\n",
    "        adapted[\"Segment\"] = i\n",
    "        \n",
    "        #Check if we deleted all the SKU's of the segment\n",
    "        if len(adapted.index) !=0:\n",
    "            \n",
    "            after = adapted.SKU.nunique()\n",
    "            total_removed += before-after\n",
    "            if verbose:\n",
    "                print(\"\\tNumber of SKU's After:\",adapted.SKU.nunique())\n",
    "                print(\"\\tPercentage of removed SKU's:\",round((after/before)*100,2))\n",
    "            \n",
    "            #If more than 10 SKU's remain, the segment is valid.\n",
    "            if adapted.SKU.nunique() > 10:\n",
    "                new_sales = pd.concat([new_sales,adapted])\n",
    "                \n",
    "                #Perform the train & test splitting\n",
    "                train_test_split(adapted,promo,i,operation=\"Raw\")ç\n",
    "        else:\n",
    "            if verbose:\n",
    "                print(\"This segment is eliminated due that all SKU's have been removed\")\n",
    "                \n",
    "    #Overall interesting info\n",
    "    if verbose:\n",
    "        print(\"Total amount of NaN values:\",total_nan)\n",
    "        print(\"Total amount of removed SKU's:\",total_removed)\n",
    "    \n",
    "    #Replace the final \"valid\" NaN values with zero\n",
    "    new_sales[\"Sales\"] = new_sales[\"Sales\"].fillna(0)\n",
    "    \n",
    "    #And save all the valid sales dataset\n",
    "    new_sales.to_csv(\"Data/All_Sales_After_Cleaning.csv\",index=None)\n",
    "    return new_sales"
   ]
  },
  {
   "cell_type": "code",
   "execution_count": 32,
   "metadata": {
    "ExecuteTime": {
     "end_time": "2021-08-06T08:48:47.214819Z",
     "start_time": "2021-08-06T08:47:56.505369Z"
    },
    "scrolled": true
   },
   "outputs": [
    {
     "name": "stdout",
     "output_type": "stream",
     "text": [
      "SEGMENT: 10100\n",
      "\tNumber of SKU's before: 2\n",
      "\tNumber of SKU's After: 1\n",
      "\tPercentage of removed SKU's: 50.0\n",
      "SEGMENT: 11900\n",
      "\tNumber of SKU's before: 2\n",
      "\tNumber of SKU's After: 1\n",
      "\tPercentage of removed SKU's: 50.0\n",
      "SEGMENT: 10150\n",
      "\tNumber of SKU's before: 1014\n",
      "\tNumber of SKU's After: 511\n",
      "\tPercentage of removed SKU's: 50.39\n",
      "SEGMENT: 11928\n",
      "\tNumber of SKU's before: 84\n",
      "\tNumber of SKU's After: 81\n",
      "\tPercentage of removed SKU's: 96.43\n",
      "SEGMENT: 10180\n",
      "\tNumber of SKU's before: 142\n",
      "\tNumber of SKU's After: 114\n",
      "\tPercentage of removed SKU's: 80.28\n",
      "SEGMENT: 11908\n",
      "\tNumber of SKU's before: 395\n",
      "\tNumber of SKU's After: 359\n",
      "\tPercentage of removed SKU's: 90.89\n",
      "SEGMENT: 10160\n",
      "\tNumber of SKU's before: 351\n",
      "\tNumber of SKU's After: 44\n",
      "\tPercentage of removed SKU's: 12.54\n",
      "SEGMENT: 11956\n",
      "\tNumber of SKU's before: 133\n",
      "\tNumber of SKU's After: 11\n",
      "\tPercentage of removed SKU's: 8.27\n",
      "SEGMENT: 11954\n",
      "\tNumber of SKU's before: 143\n",
      "\tNumber of SKU's After: 85\n",
      "\tPercentage of removed SKU's: 59.44\n",
      "SEGMENT: 11916\n",
      "\tNumber of SKU's before: 1160\n",
      "\tNumber of SKU's After: 732\n",
      "\tPercentage of removed SKU's: 63.1\n",
      "SEGMENT: 11960\n",
      "\tNumber of SKU's before: 72\n",
      "\tNumber of SKU's After: 23\n",
      "\tPercentage of removed SKU's: 31.94\n",
      "SEGMENT: 11950\n",
      "\tNumber of SKU's before: 60\n",
      "\tNumber of SKU's After: 48\n",
      "\tPercentage of removed SKU's: 80.0\n",
      "SEGMENT: 10110\n",
      "\tNumber of SKU's before: 1748\n",
      "\tNumber of SKU's After: 971\n",
      "\tPercentage of removed SKU's: 55.55\n",
      "SEGMENT: 11926\n",
      "\tNumber of SKU's before: 112\n",
      "\tNumber of SKU's After: 90\n",
      "\tPercentage of removed SKU's: 80.36\n",
      "SEGMENT: 10170\n",
      "\tNumber of SKU's before: 595\n",
      "\tNumber of SKU's After: 317\n",
      "\tPercentage of removed SKU's: 53.28\n",
      "SEGMENT: 11974\n",
      "\tNumber of SKU's before: 19\n",
      "\tNumber of SKU's After: 2\n",
      "\tPercentage of removed SKU's: 10.53\n",
      "SEGMENT: 11970\n",
      "\tNumber of SKU's before: 68\n",
      "\tNumber of SKU's After: 23\n",
      "\tPercentage of removed SKU's: 33.82\n",
      "SEGMENT: 11978\n",
      "\tNumber of SKU's before: 26\n",
      "\tNumber of SKU's After: 10\n",
      "\tPercentage of removed SKU's: 38.46\n",
      "SEGMENT: 11936\n",
      "\tNumber of SKU's before: 12\n",
      "\tNumber of SKU's After: 11\n",
      "\tPercentage of removed SKU's: 91.67\n",
      "SEGMENT: 11940\n",
      "\tNumber of SKU's before: 47\n",
      "\tNumber of SKU's After: 38\n",
      "\tPercentage of removed SKU's: 80.85\n",
      "SEGMENT: 11920\n",
      "\tNumber of SKU's before: 293\n",
      "\tNumber of SKU's After: 155\n",
      "\tPercentage of removed SKU's: 52.9\n",
      "SEGMENT: 11912\n",
      "\tNumber of SKU's before: 11\n",
      "\tNumber of SKU's After: 9\n",
      "\tPercentage of removed SKU's: 81.82\n",
      "SEGMENT: 11986\n",
      "\tNumber of SKU's before: 31\n",
      "\tNumber of SKU's After: 31\n",
      "\tPercentage of removed SKU's: 100.0\n",
      "SEGMENT: 11934\n",
      "\tNumber of SKU's before: 13\n",
      "\tNumber of SKU's After: 11\n",
      "\tPercentage of removed SKU's: 84.62\n",
      "SEGMENT: 11922\n",
      "\tNumber of SKU's before: 18\n",
      "\tNumber of SKU's After: 9\n",
      "\tPercentage of removed SKU's: 50.0\n",
      "SEGMENT: 10120\n",
      "\tNumber of SKU's before: 709\n",
      "\tNumber of SKU's After: 401\n",
      "\tPercentage of removed SKU's: 56.56\n",
      "SEGMENT: 11903\n",
      "\tNumber of SKU's before: 179\n",
      "\tNumber of SKU's After: 174\n",
      "\tPercentage of removed SKU's: 97.21\n",
      "SEGMENT: 11906\n",
      "\tNumber of SKU's before: 18\n",
      "\tNumber of SKU's After: 17\n",
      "\tPercentage of removed SKU's: 94.44\n",
      "SEGMENT: 11994\n",
      "\tNumber of SKU's before: 1\n",
      "\tNumber of SKU's After: 1\n",
      "\tPercentage of removed SKU's: 100.0\n",
      "SEGMENT: 11902\n",
      "\tNumber of SKU's before: 25\n",
      "\tNumber of SKU's After: 15\n",
      "\tPercentage of removed SKU's: 60.0\n",
      "SEGMENT: 11924\n",
      "\tNumber of SKU's before: 182\n",
      "\tNumber of SKU's After: 33\n",
      "\tPercentage of removed SKU's: 18.13\n",
      "SEGMENT: 11982\n",
      "\tNumber of SKU's before: 62\n",
      "\tNumber of SKU's After: 34\n",
      "\tPercentage of removed SKU's: 54.84\n",
      "SEGMENT: 11907\n",
      "\tNumber of SKU's before: 20\n",
      "\tNumber of SKU's After: 5\n",
      "\tPercentage of removed SKU's: 25.0\n",
      "SEGMENT: 11944\n",
      "\tNumber of SKU's before: 28\n",
      "\tNumber of SKU's After: 25\n",
      "\tPercentage of removed SKU's: 89.29\n",
      "SEGMENT: 10140\n",
      "\tNumber of SKU's before: 17\n",
      "\tNumber of SKU's After: 16\n",
      "\tPercentage of removed SKU's: 94.12\n",
      "SEGMENT: 10130\n",
      "\tNumber of SKU's before: 3\n",
      "\tNumber of SKU's After: 3\n",
      "\tPercentage of removed SKU's: 100.0\n",
      "SEGMENT: 11925\n",
      "\tNumber of SKU's before: 10\n",
      "\tNumber of SKU's After: 7\n",
      "\tPercentage of removed SKU's: 70.0\n",
      "SEGMENT: 10199\n",
      "\tNumber of SKU's before: 1\n",
      "\tNumber of SKU's After: 1\n",
      "\tPercentage of removed SKU's: 100.0\n",
      "SEGMENT: 11918\n",
      "\tNumber of SKU's before: 16\n",
      "This segment is eliminated due that all SKU's have been removed\n",
      "SEGMENT: 11942\n",
      "\tNumber of SKU's before: 1\n",
      "This segment is eliminated due that all SKU's have been removed\n",
      "Total amount of NaN values: 442539\n",
      "Total amount of removed SKU's: 3387\n"
     ]
    }
   ],
   "source": [
    "new_sales = apply_nan(sales,promo,percentage=0.3,verbose=True)"
   ]
  },
  {
   "cell_type": "markdown",
   "metadata": {},
   "source": [
    "## Second preprocess: Stationarity \n",
    "\n",
    "In this second preprocess measure we check for stationary time series"
   ]
  },
  {
   "cell_type": "code",
   "execution_count": 15,
   "metadata": {
    "ExecuteTime": {
     "end_time": "2021-08-06T13:42:34.406859Z",
     "start_time": "2021-08-06T13:42:34.129859Z"
    }
   },
   "outputs": [
    {
     "data": {
      "text/html": [
       "<div>\n",
       "<style scoped>\n",
       "    .dataframe tbody tr th:only-of-type {\n",
       "        vertical-align: middle;\n",
       "    }\n",
       "\n",
       "    .dataframe tbody tr th {\n",
       "        vertical-align: top;\n",
       "    }\n",
       "\n",
       "    .dataframe thead th {\n",
       "        text-align: right;\n",
       "    }\n",
       "</style>\n",
       "<table border=\"1\" class=\"dataframe\">\n",
       "  <thead>\n",
       "    <tr style=\"text-align: right;\">\n",
       "      <th></th>\n",
       "      <th>SKU</th>\n",
       "      <th>Date</th>\n",
       "      <th>Sales</th>\n",
       "      <th>Week</th>\n",
       "      <th>Dissapeared</th>\n",
       "      <th>Segment</th>\n",
       "    </tr>\n",
       "  </thead>\n",
       "  <tbody>\n",
       "    <tr>\n",
       "      <th>0</th>\n",
       "      <td>447010</td>\n",
       "      <td>2015-08-24</td>\n",
       "      <td>12.0</td>\n",
       "      <td>35</td>\n",
       "      <td>0</td>\n",
       "      <td>10150</td>\n",
       "    </tr>\n",
       "    <tr>\n",
       "      <th>1</th>\n",
       "      <td>447010</td>\n",
       "      <td>2015-08-31</td>\n",
       "      <td>21.0</td>\n",
       "      <td>36</td>\n",
       "      <td>0</td>\n",
       "      <td>10150</td>\n",
       "    </tr>\n",
       "    <tr>\n",
       "      <th>2</th>\n",
       "      <td>447010</td>\n",
       "      <td>2015-09-07</td>\n",
       "      <td>23.0</td>\n",
       "      <td>37</td>\n",
       "      <td>0</td>\n",
       "      <td>10150</td>\n",
       "    </tr>\n",
       "    <tr>\n",
       "      <th>3</th>\n",
       "      <td>447010</td>\n",
       "      <td>2015-09-14</td>\n",
       "      <td>11.0</td>\n",
       "      <td>38</td>\n",
       "      <td>0</td>\n",
       "      <td>10150</td>\n",
       "    </tr>\n",
       "    <tr>\n",
       "      <th>4</th>\n",
       "      <td>447010</td>\n",
       "      <td>2015-09-21</td>\n",
       "      <td>18.0</td>\n",
       "      <td>39</td>\n",
       "      <td>0</td>\n",
       "      <td>10150</td>\n",
       "    </tr>\n",
       "  </tbody>\n",
       "</table>\n",
       "</div>"
      ],
      "text/plain": [
       "      SKU        Date  Sales  Week  Dissapeared  Segment\n",
       "0  447010  2015-08-24   12.0    35            0    10150\n",
       "1  447010  2015-08-31   21.0    36            0    10150\n",
       "2  447010  2015-09-07   23.0    37            0    10150\n",
       "3  447010  2015-09-14   11.0    38            0    10150\n",
       "4  447010  2015-09-21   18.0    39            0    10150"
      ]
     },
     "execution_count": 15,
     "metadata": {},
     "output_type": "execute_result"
    }
   ],
   "source": [
    "new_sales = pd.read_csv(\"Data/All_Sales_After_Cleaning.csv\")\n",
    "new_sales.head()"
   ]
  },
  {
   "cell_type": "markdown",
   "metadata": {},
   "source": [
    "This function performs the first differentation of a time series, making it stationary."
   ]
  },
  {
   "cell_type": "code",
   "execution_count": 16,
   "metadata": {
    "ExecuteTime": {
     "end_time": "2021-08-06T13:42:34.996874Z",
     "start_time": "2021-08-06T13:42:34.985874Z"
    }
   },
   "outputs": [],
   "source": [
    "def remove_trend(series):\n",
    "    return series.diff().dropna()"
   ]
  },
  {
   "cell_type": "markdown",
   "metadata": {},
   "source": [
    "This function iterates all the sales of all the products and test them with the Augmented Dickey-Fuller test in order to know if they are stationary or not. \n",
    "\n",
    "As mentioned in the paper, we will first-differentiate all the time series even if they pass or not the ADF test. "
   ]
  },
  {
   "cell_type": "code",
   "execution_count": 25,
   "metadata": {
    "ExecuteTime": {
     "end_time": "2021-08-06T13:47:24.148574Z",
     "start_time": "2021-08-06T13:47:24.132545Z"
    }
   },
   "outputs": [],
   "source": [
    "def preprocess(serie):\n",
    "    #List of SKU's\n",
    "    variables = serie.SKU.unique()\n",
    "    \n",
    "    #Counters\n",
    "    originalADF = 0\n",
    "    no_pass= 0\n",
    "    \n",
    "    #Dataframe were we will store the first-differenciated series\n",
    "    processed = pd.DataFrame()\n",
    "    \n",
    "    for var in variables:\n",
    "        product = serie[serie.SKU == var][[\"SKU\",\"Date\",\"Sales\"]]\n",
    "        product = product.sort_values(\"Date\")\n",
    "        \n",
    "        #Perform the ADF test\n",
    "        result = adfuller(product[\"Sales\"])\n",
    "        \n",
    "        #Check the p-value for info purposes\n",
    "        if result[1] >= 0.05:\n",
    "            originalADF +=1\n",
    "        \n",
    "        #Apply the first-differentiation\n",
    "        product[\"Sales\"] = remove_trend(product[\"Sales\"])\n",
    "        \n",
    "        #Due to the first-differentiation, we lose the first value (a NaN)\n",
    "        product = product.tail(-1)\n",
    "        \n",
    "        #Test again if our series is stationary\n",
    "        result = adfuller(product[\"Sales\"])\n",
    "        if result[1] >= 0.05:\n",
    "            no_pass +=1\n",
    "        \n",
    "        #Save the new time serie\n",
    "        processed = pd.concat([processed,product])\n",
    "    return originalADF,no_pass,processed"
   ]
  },
  {
   "cell_type": "markdown",
   "metadata": {},
   "source": [
    "This function manages the overall process of first-differentiate our time series and then performs the train & test splitting. \n",
    "\n",
    "It is parametrized in order to be able to choose if we want to apply the first-differentiation or not."
   ]
  },
  {
   "cell_type": "code",
   "execution_count": 26,
   "metadata": {
    "ExecuteTime": {
     "end_time": "2021-08-06T13:48:23.179952Z",
     "start_time": "2021-08-06T13:48:23.159953Z"
    }
   },
   "outputs": [],
   "source": [
    "def apply_preprocess(sales,promo,do_preprocess,verbose=False):\n",
    "    \n",
    "    #Counters\n",
    "    original_no = 0\n",
    "    no = 0\n",
    "    \n",
    "    for i in sales.Segment.unique():\n",
    "        segment = sales[sales[\"Segment\"] == i][[\"SKU\",\"Sales\",\"Date\"]]\n",
    "        \n",
    "        #Apply or not the first-differentiation\n",
    "        if do_preprocess:\n",
    "            originalADF,no_pass,processed = preprocess(segment)\n",
    "            original_no += originalADF\n",
    "            no = no_pass + no\n",
    "            \n",
    "            #Train & test split\n",
    "            train_test_split(processed,promo,i,operation=\"Processed\")\n",
    "            \n",
    "        else:\n",
    "            train_test_split(segment,promo,i,operation=\"Raw\")\n",
    "            \n",
    "    if verbose:\n",
    "        print(\"\\tTotal variables that didn't pass the Augmented Dickey–Fuller test:\",original_no)\n",
    "        print(\"\\tTotal variables that didn't pass the Augmented Dickey–Fuller test after differenciating:\",no)"
   ]
  },
  {
   "cell_type": "code",
   "execution_count": 27,
   "metadata": {
    "ExecuteTime": {
     "end_time": "2021-08-06T13:49:49.636811Z",
     "start_time": "2021-08-06T13:48:26.007454Z"
    }
   },
   "outputs": [
    {
     "name": "stdout",
     "output_type": "stream",
     "text": [
      "\tTotal variables that didn't pass the Augmented Dickey–Fuller test: 1190\n",
      "\tTotal variables that didn't pass the Augmented Dickey–Fuller test after differenciating: 3\n"
     ]
    }
   ],
   "source": [
    "apply_preprocess(new_sales,promo,do_preprocess=True,verbose=True)"
   ]
  }
 ],
 "metadata": {
  "kernelspec": {
   "display_name": "Python 3",
   "language": "python",
   "name": "python3"
  },
  "language_info": {
   "codemirror_mode": {
    "name": "ipython",
    "version": 3
   },
   "file_extension": ".py",
   "mimetype": "text/x-python",
   "name": "python",
   "nbconvert_exporter": "python",
   "pygments_lexer": "ipython3",
   "version": "3.8.3"
  }
 },
 "nbformat": 4,
 "nbformat_minor": 4
}
